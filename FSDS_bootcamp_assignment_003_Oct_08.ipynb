{
  "nbformat": 4,
  "nbformat_minor": 0,
  "metadata": {
    "colab": {
      "provenance": [],
      "collapsed_sections": []
    },
    "kernelspec": {
      "name": "python3",
      "display_name": "Python 3"
    },
    "language_info": {
      "name": "python"
    }
  },
  "cells": [
    {
      "cell_type": "markdown",
      "source": [
        "# ASSIGNMENTS - Compulsory\n",
        "## Send it before 0000 hrs IST or 12 AM Wednesday\n",
        "\n",
        "## NOTE: Evaluation will be done before next class.\n",
        "\n",
        "## HOW TO SUBMIT: -\n",
        "Download this notebook, Solve it and upload in the google form given in the mail."
      ],
      "metadata": {
        "id": "cyOfbWCdOjEr"
      }
    },
    {
      "cell_type": "markdown",
      "source": [
        "## Python String Manipulation\n",
        "\n",
        "1. Count the number of times `iNeuron` appears in the string.\n",
        "```python\n",
        "text = \"Welcome to iNeuron, You are a part of FSDS Bootcamp 2 in iNeuron. I hope you are enjoying the course by iNeuron\"\n",
        "```\n",
        "2. Check if position `5` to `11` ends with the phrase `iNeuron.` in the string \n",
        "```python\n",
        "txt = \"Hello, welcome to FSDS 2.0 at iNeuron.\"\n",
        "```\n",
        "3. Write a program that takes your full name as input and displays the abbreviations of the first and middle names except the last name which is displayed as it is. For example, if your name is Sunny Bhaveen Chandra, then the output should be S.B.Chandra.\n",
        "\n",
        "4. Join all items in a list into a string, using a hash(`#`) character as separator:\n",
        "```python\n",
        "LIST = [\"My\", \"name\", \"is\", \"Rishav\", \"Dash\"]\n",
        "```\n",
        "5. Write example for the following string manipulation function,\n",
        "\n",
        "  ```\n",
        "  - isdecimal()\n",
        "  - islower()\n",
        "  - isupper()\n",
        "  - isalpha()\n",
        "  - isnumeric()\n",
        "\n",
        "  ```\n",
        "6. Indian PAN card format follows the following formats - \n",
        "    - `AYEPC7894X`\n",
        "    - `ABCDE9999Y`\n",
        "  Take user input for PAN_CARD and validate as per the above example.\n"
      ],
      "metadata": {
        "id": "GT4IytkJMNa-"
      }
    },
    {
      "cell_type": "markdown",
      "source": [
        "# SOLUTION"
      ],
      "metadata": {
        "id": "pljSy4h_rfxS"
      }
    },
    {
      "cell_type": "markdown",
      "source": [
        "### 1. Count the number of times `iNeuron` appears in the string.\n",
        " ```python\n",
        "text = \"Welcome to iNeuron, You are a part of FSDS Bootcamp 2 in iNeuron. I hope you are enjoying the course by iNeuron\"\n",
        "```"
      ],
      "metadata": {
        "id": "PzqzbD1pri5W"
      }
    },
    {
      "cell_type": "code",
      "source": [
        "text = \"Welcome to iNeuron, You are a part of FSDS Bootcamp 2 in iNeuron. I hope you are enjoying the course by iNeuron\"\n",
        "counting = text.count(\"iNeuron\")\n",
        "print(counting)"
      ],
      "metadata": {
        "id": "KwVni9gipNi-",
        "colab": {
          "base_uri": "https://localhost:8080/"
        },
        "outputId": "0036f13f-9553-4bfd-ad1a-adaf4ecdf4a8"
      },
      "execution_count": 1,
      "outputs": [
        {
          "output_type": "stream",
          "name": "stdout",
          "text": [
            "3\n"
          ]
        }
      ]
    },
    {
      "cell_type": "markdown",
      "source": [
        "2. Check if position `5` to `11` ends with the phrase `iNeuron.` in the string \n",
        "```python\n",
        "txt = \"Hello, welcome to FSDS 2.0 at iNeuron.\"\n",
        "```\n",
        "\n"
      ],
      "metadata": {
        "id": "1JC-4LQJsLiZ"
      }
    },
    {
      "cell_type": "code",
      "source": [
        "txt = \"Hello, welcome to FSDS 2.0 at iNeuron.\"\n",
        "txt[5:11] == \"iNeuron.\""
      ],
      "metadata": {
        "colab": {
          "base_uri": "https://localhost:8080/"
        },
        "id": "vwPiXL9Kr82c",
        "outputId": "02237572-4786-48cf-b016-9ad89381d676"
      },
      "execution_count": 2,
      "outputs": [
        {
          "output_type": "execute_result",
          "data": {
            "text/plain": [
              "False"
            ]
          },
          "metadata": {},
          "execution_count": 2
        }
      ]
    },
    {
      "cell_type": "markdown",
      "source": [
        "3. Write a program that takes your full name as input and displays the abbreviations of the first and middle names except the last name which is displayed as it is. For example, if your name is Sunny Bhaveen Chandra, then the output should be S.B.Chandra.\n"
      ],
      "metadata": {
        "id": "Cyph2KBUuBY4"
      }
    },
    {
      "cell_type": "code",
      "source": [
        "name = input(\"Enter Your Full Name : \")\n",
        "\n",
        "first_name, middle_name, last_name = name.split(\" \")\n",
        "\n",
        "first_name = first_name.title()\n",
        "middle_name = middle_name.title()\n",
        "last_name = last_name.title()\n",
        "\n",
        "print(f\"Your Name is : {first_name[0]}.{middle_name[0]}. {last_name}\")"
      ],
      "metadata": {
        "colab": {
          "base_uri": "https://localhost:8080/"
        },
        "id": "VEwWhRGHt-qN",
        "outputId": "5d208119-e52b-4838-9cd2-e63fc33c2b04"
      },
      "execution_count": 3,
      "outputs": [
        {
          "output_type": "stream",
          "name": "stdout",
          "text": [
            "Enter Your Full Name : Sunny Bhaveen Chandra\n",
            "Your Name is : S.B. Chandra\n"
          ]
        }
      ]
    },
    {
      "cell_type": "markdown",
      "source": [
        "4. Join all items in a list into a string, using a hash(`#`) character as separator:\n",
        "```python\n",
        "LIST = [\"My\", \"name\", \"is\", \"Rishav\", \"Dash\"]\n",
        "```"
      ],
      "metadata": {
        "id": "vFCXGZ3OvpVk"
      }
    },
    {
      "cell_type": "code",
      "source": [
        "LIST = [\"My\", \"name\", \"is\", \"Rishav\", \"Dash\"]\n",
        "LIST = \"#\".join(LIST)\n",
        "print(LIST)"
      ],
      "metadata": {
        "colab": {
          "base_uri": "https://localhost:8080/"
        },
        "id": "zLzlxi_yuV4M",
        "outputId": "dc202993-18b0-41b1-9544-ea279789c26a"
      },
      "execution_count": 4,
      "outputs": [
        {
          "output_type": "stream",
          "name": "stdout",
          "text": [
            "My#name#is#Rishav#Dash\n"
          ]
        }
      ]
    },
    {
      "cell_type": "markdown",
      "source": [
        "5. Write example for the following string manipulation function,\n",
        "\n",
        "  ```\n",
        "  - isdecimal()\n",
        "  - islower()\n",
        "  - isupper()\n",
        "  - isalpha()\n",
        "  - isnumeric()\n",
        "\n",
        "  ```\n"
      ],
      "metadata": {
        "id": "jY4SS7SuxByh"
      }
    },
    {
      "cell_type": "code",
      "source": [
        "# - isdecimal() # The isdecimal() method returns True if all the characters are decimals (0-9).\n",
        "isdec1 = \"123456.65\" # it will print False\n",
        "isdec2 = \"123456\" # it will print True\n",
        "print(isdec1.isdecimal()) \n",
        "print(isdec2.isdecimal()) "
      ],
      "metadata": {
        "colab": {
          "base_uri": "https://localhost:8080/"
        },
        "id": "6c09RNPDv4Ot",
        "outputId": "3436fdaf-56ed-4274-b27d-95eb79beec97"
      },
      "execution_count": 5,
      "outputs": [
        {
          "output_type": "stream",
          "name": "stdout",
          "text": [
            "False\n",
            "True\n"
          ]
        }
      ]
    },
    {
      "cell_type": "code",
      "source": [
        "#islower() # The islower() method returns True if all the characters are in lower case, otherwise False.\n",
        "islow1 = \"my name is md saif ali\" # it will print True\n",
        "islow2 = \"My Name is Md Saif Ali\" # it will print False\n",
        "print(islow1.islower()) \n",
        "print(islow2.islower()) "
      ],
      "metadata": {
        "colab": {
          "base_uri": "https://localhost:8080/"
        },
        "id": "naqYQdeKxde-",
        "outputId": "a45321d7-404d-4fa6-ad56-30ab2925eaac"
      },
      "execution_count": 6,
      "outputs": [
        {
          "output_type": "stream",
          "name": "stdout",
          "text": [
            "True\n",
            "False\n"
          ]
        }
      ]
    },
    {
      "cell_type": "code",
      "source": [
        "# isupper() #The isupper() method returns True if all the characters are in upper case, otherwise False.\n",
        "isupp1 = \"MY NAME IS MD SAIF ALI\" # it will print True\n",
        "isupp2 = \"My Name is Md Saif Ali\" # it will print False\n",
        "print(isupp1.isupper()) \n",
        "print(isupp2.isupper()) "
      ],
      "metadata": {
        "colab": {
          "base_uri": "https://localhost:8080/"
        },
        "id": "50v5iLP3zKb8",
        "outputId": "0a88444b-0a13-410c-a0ba-d7b0db00ac3a"
      },
      "execution_count": 7,
      "outputs": [
        {
          "output_type": "stream",
          "name": "stdout",
          "text": [
            "True\n",
            "False\n"
          ]
        }
      ]
    },
    {
      "cell_type": "code",
      "source": [
        "# isalpha() # The isalpha() method returns True if all the characters are alphabet letters (a-z).\n",
        "isalp1 = \"MYNAMEISMDSAIFALI\" # it will print True\n",
        "isalp2 = \"My Name is Md Saif Ali\" # it will print False\n",
        "print(isalp1.isalpha()) \n",
        "print(isalp2.isalpha()) "
      ],
      "metadata": {
        "colab": {
          "base_uri": "https://localhost:8080/"
        },
        "id": "aY0bUxF9zfcM",
        "outputId": "04f803c2-8145-4464-d238-b9c245e59f2e"
      },
      "execution_count": 8,
      "outputs": [
        {
          "output_type": "stream",
          "name": "stdout",
          "text": [
            "True\n",
            "False\n"
          ]
        }
      ]
    },
    {
      "cell_type": "code",
      "source": [
        "# isnumeric() # The isnumeric() method returns True if all the characters are numeric (0-9), otherwise False.\n",
        "isnum1 = \"123456.65\" # it will print False\n",
        "isnum2 = \"123456\" # it will print True\n",
        "print(isnum1.isnumeric()) \n",
        "print(isnum2.isnumeric()) "
      ],
      "metadata": {
        "colab": {
          "base_uri": "https://localhost:8080/"
        },
        "id": "KG0PVaenz7n1",
        "outputId": "f9675c4c-6a40-40c6-e2c8-0a3b2ec98cea"
      },
      "execution_count": 9,
      "outputs": [
        {
          "output_type": "stream",
          "name": "stdout",
          "text": [
            "False\n",
            "True\n"
          ]
        }
      ]
    },
    {
      "cell_type": "markdown",
      "source": [
        "6. Indian PAN card format follows the following formats - \n",
        "    - `AYEPC7894X`\n",
        "    - `ABCDE9999Y`\n",
        "  Take user input for PAN_CARD and validate as per the above example."
      ],
      "metadata": {
        "id": "67fGBzb-1qXr"
      }
    },
    {
      "cell_type": "code",
      "source": [
        "PAN_CARD = input(\"Enter PAN CARD Number : \")\n",
        "PAN_CARD = PAN_CARD.upper()\n",
        "\n",
        "first = PAN_CARD[0:5]\n",
        "second = PAN_CARD[5:9]\n",
        "third = PAN_CARD[9]\n",
        "\n",
        "# length = len(PAN_CARD)\n",
        "# first.isalpha()\n",
        "# second.isdecimal()\n",
        "# third.isalpha()\n",
        "\n",
        "if len(PAN_CARD) == 10 and first.isalpha() and second.isdecimal() and third.isalpha():\n",
        "  print(\"PAN CARD Verification is Successfully Completed\")\n",
        "  print(\"PAN CARD is Original\")\n",
        "else:\n",
        "  print(\"PAN CARD Verification is not Completed, you have entered wrong PAN NUMBER.\\nPlease check and then try again....\")\n",
        "  \n",
        "  \n",
        "\n"
      ],
      "metadata": {
        "colab": {
          "base_uri": "https://localhost:8080/"
        },
        "id": "Rwfkdenk0ltV",
        "outputId": "399d0e87-8bf3-4676-816a-0b851ab7d481"
      },
      "execution_count": 10,
      "outputs": [
        {
          "output_type": "stream",
          "name": "stdout",
          "text": [
            "Enter PAN CARD Number : AYEPC7894X\n",
            "PAN CARD Verification is Successfully Completed\n",
            "PAN CARD is Original\n"
          ]
        }
      ]
    },
    {
      "cell_type": "code",
      "source": [],
      "metadata": {
        "id": "hOGgEnhS2Lj1"
      },
      "execution_count": 10,
      "outputs": []
    }
  ]
}