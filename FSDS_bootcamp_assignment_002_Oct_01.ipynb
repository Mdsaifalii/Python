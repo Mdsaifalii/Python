{
  "nbformat": 4,
  "nbformat_minor": 0,
  "metadata": {
    "colab": {
      "provenance": [],
      "collapsed_sections": []
    },
    "kernelspec": {
      "name": "python3",
      "display_name": "Python 3"
    },
    "language_info": {
      "name": "python"
    }
  },
  "cells": [
    {
      "cell_type": "code",
      "source": [
        "'''\n",
        "1. What is indentation error? Why indentation is important? Give one simple example?\n",
        "\n",
        "Answer : The indentation error can occur when the spaces or tabs are not placed properly.\n",
        "indentation is very important Because Python uses indentation to indicate a block of code.\n",
        "'''\n",
        "# for Example:\n",
        "\n",
        "a = 8\n",
        "b = 5\n",
        "if a > b:\n",
        "  print(f\"a = {a} and b = {b}\\nso a is greater than b\") #here we see that the beginning of the line has some space this is called indentation and is very important to indicate the block of code\n",
        "else:\n",
        "    print(f\"a = {a} and b = {b}\\nso a is not greater than b\") #here we also see that the beginning of the line has some space this is called indentation and is very important to indicate the block of code\n"
      ],
      "metadata": {
        "colab": {
          "base_uri": "https://localhost:8080/"
        },
        "id": "vGd4dFlz3Q8x",
        "outputId": "b97a4d40-047f-44f3-952d-c2b2e43f762b"
      },
      "execution_count": 1,
      "outputs": [
        {
          "output_type": "stream",
          "name": "stdout",
          "text": [
            "a = 8 and b = 5\n",
            "so a is greater than b\n"
          ]
        }
      ]
    },
    {
      "cell_type": "code",
      "source": [
        "# 2. Correct the following code and write the comment where you made the correction?\n",
        "\n",
        "# Answer :\n",
        "\n",
        "class_started = int(input(\"Hey friend, is class started?: [0-False/1-True]\")) #here i convert the data type bool to integer.\n",
        "\n",
        "if bool(class_started): #and here i convert my integer value to the boolean\n",
        "    print(\"Since class started...\")\n",
        "    print(\"Lets concentrate\")\n",
        "else:\n",
        "    print(\"Since class is not started...\")\n",
        "    print(\"let's revise\")    "
      ],
      "metadata": {
        "colab": {
          "base_uri": "https://localhost:8080/"
        },
        "id": "dpw9FJap5N8k",
        "outputId": "4a5ba658-9681-4c21-ae23-cf5451b53487"
      },
      "execution_count": 2,
      "outputs": [
        {
          "output_type": "stream",
          "name": "stdout",
          "text": [
            "Hey friend, is class started?: [0-False/1-True]0\n",
            "Since class is not started...\n",
            "let's revise\n"
          ]
        }
      ]
    },
    {
      "cell_type": "code",
      "source": [
        "# 3. Use if else condition to verify that dataype of `input()` method in python is always string.\n",
        "\n",
        "user_input = input(\"Enter something:\")\n",
        "\n",
        "#Checking input is an integer or not\n",
        "if type(user_input) == int:\n",
        "  print(\"Not a String\")\n",
        "else:\n",
        "  print(\"Its a String, not Integer\")\n",
        "\n",
        "#Checking input is an float or not\n",
        "if type(user_input) == float:\n",
        "  print(\"Not a String\")\n",
        "else:\n",
        "  print(\"Its a String, not Float\")\n",
        "\n",
        "#Checking input is an Boolean or not\n",
        "if type(user_input) == bool:\n",
        "  print(\"Not a String\")\n",
        "else:\n",
        "  print(\"Its a String, not boolean\")"
      ],
      "metadata": {
        "colab": {
          "base_uri": "https://localhost:8080/"
        },
        "id": "nRVyYke_7nos",
        "outputId": "4d52e862-1d2d-4cf5-e41f-877cd575abcc"
      },
      "execution_count": 6,
      "outputs": [
        {
          "output_type": "stream",
          "name": "stdout",
          "text": [
            "Enter something:15as\n",
            "Its a String, not Integer\n",
            "Its a String, not Float\n",
            "Its a String, not boolean\n"
          ]
        }
      ]
    },
    {
      "cell_type": "code",
      "source": [
        "# 4. Take 3 variables and assign integer values to them. Find the largest variable, by only using the if and else conditions.\n",
        "\n",
        "num_1 = 10\n",
        "num_2 = 5\n",
        "num_3 = 15\n",
        "largest = 0\n",
        "if num_1 > num_2 and num_1 > num_3:\n",
        "  largest = num_1\n",
        "if num_2 > num_1 and num_2 > num_3:\n",
        "  largest = num_2\n",
        "if num_3 > num_1 and num_3 > num_2:\n",
        "  largest = num_3\n",
        "print(largest, \"is the largest of three numbers.\")\n",
        "\n"
      ],
      "metadata": {
        "colab": {
          "base_uri": "https://localhost:8080/"
        },
        "id": "ts88fQKE-QV9",
        "outputId": "d05e5c74-7228-44a1-8ad4-1aa35393854f"
      },
      "execution_count": 14,
      "outputs": [
        {
          "output_type": "stream",
          "name": "stdout",
          "text": [
            "15 is the largest of three numbers.\n"
          ]
        }
      ]
    },
    {
      "cell_type": "code",
      "source": [
        "# 5. What would be the solution?\n",
        "#     1. True\n",
        "#     2. False\n",
        "\n",
        "a = 6\n",
        "b = 10\n",
        "print( not ( not a == 10 or not b == 10))\n",
        "\n",
        "# Answer : 2 False"
      ],
      "metadata": {
        "id": "ZAlyVNkOErwr"
      },
      "execution_count": 16,
      "outputs": []
    },
    {
      "cell_type": "code",
      "source": [
        "# 6. Find the answer as well as find out the reason behind the result? -\n",
        "#- case 1:\n",
        "A = 5.0\n",
        "B = 10/2\n",
        "print(id(A))\n",
        "print(id(B))\n",
        "print(A is B)\n",
        "# It gives False Because the keywords \"is\" return True if A and B points to the same object."
      ],
      "metadata": {
        "colab": {
          "base_uri": "https://localhost:8080/"
        },
        "id": "S80Cc3cGEyo1",
        "outputId": "0846c51a-a398-4912-c68f-4547e05e64e9"
      },
      "execution_count": 21,
      "outputs": [
        {
          "output_type": "stream",
          "name": "stdout",
          "text": [
            "140146929852720\n",
            "140146929856208\n",
            "False\n"
          ]
        }
      ]
    },
    {
      "cell_type": "code",
      "source": [
        "# 6. Find the answer as well as find out the reason behind the result? -\n",
        "#     - case 2:\n",
        "A = 5.0\n",
        "B = int(10/2)\n",
        "print(type(A))\n",
        "print(type(B))\n",
        "print(A is B)\n",
        "# It gives False Because both A and B is not same data type and both A and B points to two different different location."
      ],
      "metadata": {
        "colab": {
          "base_uri": "https://localhost:8080/"
        },
        "id": "pSVXvobWFVJl",
        "outputId": "068a8059-ee0f-4647-9307-0fd1204f37c1"
      },
      "execution_count": 23,
      "outputs": [
        {
          "output_type": "stream",
          "name": "stdout",
          "text": [
            "<class 'float'>\n",
            "<class 'int'>\n",
            "False\n"
          ]
        }
      ]
    },
    {
      "cell_type": "code",
      "source": [
        "# 6. Find the answer as well as find out the reason behind the result? -\n",
        "#     - case 3:\n",
        "A = 5.0\n",
        "B = float(10/2)\n",
        "print(id(A))\n",
        "print(id(B))\n",
        "print(A is B)\n",
        "# It gives False Because the keywords \"is\" return True if A and B points to the same object and here both A and B points to two different different location."
      ],
      "metadata": {
        "colab": {
          "base_uri": "https://localhost:8080/"
        },
        "id": "Z2GB7tGQG9l2",
        "outputId": "77c27701-d280-4a60-b5f3-948511abe83b"
      },
      "execution_count": 26,
      "outputs": [
        {
          "output_type": "stream",
          "name": "stdout",
          "text": [
            "140146929991600\n",
            "140146929852720\n",
            "False\n"
          ]
        }
      ]
    },
    {
      "cell_type": "code",
      "source": [
        "var_a = 5\n",
        "var_b = 25\n",
        "integer_division = var_b // var_a\n",
        "print(f\"integer division: {var_b}/{var_a}={integer_division}\")\n",
        "#Answer : this \"//\" (Integer Division) Operator give the result in integer digit by which the digits after the decimal point are removed\n"
      ],
      "metadata": {
        "colab": {
          "base_uri": "https://localhost:8080/"
        },
        "id": "r5ZvSRRxHyc_",
        "outputId": "ea469cc9-555d-4622-fd81-f1dd15e2ecc2"
      },
      "execution_count": 31,
      "outputs": [
        {
          "output_type": "stream",
          "name": "stdout",
          "text": [
            "integer division: 25/5=5\n"
          ]
        }
      ]
    },
    {
      "cell_type": "code",
      "source": [
        "var_a = 3\n",
        "var_b = 25\n",
        "integer_division = var_b // var_a\n",
        "print(f\"integer division: {var_b}/{var_a}={integer_division}\")\n",
        "#Answer : this \"//\" (Integer Division) Operator give the result in integer digit by which the digits after the decimal point are removed"
      ],
      "metadata": {
        "colab": {
          "base_uri": "https://localhost:8080/"
        },
        "id": "R1vbkocgIesl",
        "outputId": "3674ec59-f433-4e7c-c75b-463986712a21"
      },
      "execution_count": 32,
      "outputs": [
        {
          "output_type": "stream",
          "name": "stdout",
          "text": [
            "integer division: 25/3=8\n"
          ]
        }
      ]
    },
    {
      "cell_type": "code",
      "source": [
        "var_a = 5\n",
        "var_b = 25\n",
        "remainder = var_b % var_a\n",
        "print(f\"remainder: {var_b}/{var_a} is {remainder}\")\n",
        "#this will give the reminder of the divident "
      ],
      "metadata": {
        "colab": {
          "base_uri": "https://localhost:8080/"
        },
        "id": "9smfCpS2I62W",
        "outputId": "7b611deb-01b6-4ea1-b483-9ce362f4f252"
      },
      "execution_count": 33,
      "outputs": [
        {
          "output_type": "execute_result",
          "data": {
            "text/plain": [
              "5.0"
            ]
          },
          "metadata": {},
          "execution_count": 33
        }
      ]
    },
    {
      "cell_type": "code",
      "source": [
        "'''7. Write a program that asks the user to enter a number.\n",
        "You should print out a message to the user, either “That number is divisible by either 3 or 5”,\n",
        "or “That number is not divisible by either 3 or 5”. Be sure to consider the data type of the input you are taking in from the user.\n",
        "Use a single if/else block to solve this problem.\n",
        "'''\n",
        "Num = int(input(\"Enter the value : \"))\n",
        "if (Num%5 == 0) or (Num%3==0):\n",
        "  print(f\"{Num} is Divisible by either 3 or 5\")\n",
        "else:\n",
        "  print(f\"{Num} is not Divisible by either 3 or 5\")"
      ],
      "metadata": {
        "colab": {
          "base_uri": "https://localhost:8080/"
        },
        "id": "WqhL8qegJOA0",
        "outputId": "4301b0d4-1ffe-4417-b0cf-612164d1da83"
      },
      "execution_count": 39,
      "outputs": [
        {
          "output_type": "stream",
          "name": "stdout",
          "text": [
            "Enter the value : 25\n",
            "25 is Divisible by 3 or 5\n"
          ]
        }
      ]
    },
    {
      "cell_type": "code",
      "source": [
        "# 8. Take user input for length and width. Then calculate the area of rectangle. Also print as per length and width whether its a square of rectangle.\n",
        "length = int(input(\"Enter the length : \"))\n",
        "width = int(input(\"Enter the width : \"))\n",
        "\n",
        "area = length * width\n",
        "\n",
        "if length == width:\n",
        "  print(\"This is a square\")\n",
        "  print(f\"The Area of Square is {area}\")\n",
        "else:\n",
        "  print(\"This is a Rectangle\")\n",
        "  print(f\"The Area of Rectangle is {area}\")"
      ],
      "metadata": {
        "colab": {
          "base_uri": "https://localhost:8080/"
        },
        "id": "IY1P5utMKki3",
        "outputId": "52d159fe-52f4-41cb-f556-58d84560a68d"
      },
      "execution_count": 43,
      "outputs": [
        {
          "output_type": "stream",
          "name": "stdout",
          "text": [
            "Enter the length : 10\n",
            "Enter the width : 20\n",
            "This is a Rectangle\n",
            "The Area of Rectangle is 200\n"
          ]
        }
      ]
    },
    {
      "cell_type": "code",
      "source": [
        "# 9. Take two variable radius_1 and radius_2 and calculate the area of circle_1 and circle_2. Also print which circle has large area. If area is equal then print area is equal.\n",
        "\n",
        "radius1 = int(input(\"Enter the radius of Circle 1 : \"))\n",
        "radius2 = int(input(\"Enter the radius of Circle 2 : \"))\n",
        "pi = 3.14\n",
        "r1 = pi * radius1 * radius1\n",
        "r2 = pi * radius2 * radius2\n",
        "\n",
        "print(f\"The Area of Circle 1 is {r1}\")\n",
        "print(f\"The Area of Circle 2 is {r2}\")\n",
        "\n",
        "if r1>r2:\n",
        "  print(\"Circle 1 is large area.\")\n",
        "else:\n",
        "  print(\"Circle 2 is large area.\")\n"
      ],
      "metadata": {
        "colab": {
          "base_uri": "https://localhost:8080/"
        },
        "id": "Ctk7G-g6KmP-",
        "outputId": "09f2d1f5-6d36-499a-80eb-652e7cffd0db"
      },
      "execution_count": 45,
      "outputs": [
        {
          "output_type": "stream",
          "name": "stdout",
          "text": [
            "Enter the radius of Circle 1 : 2\n",
            "Enter the radius of Circle 2 : 3\n",
            "The Area of Circle 1 is 12.56\n",
            "The Area of Circle 2 is 28.259999999999998\n",
            "Circle 2 is large area.\n"
          ]
        }
      ]
    },
    {
      "cell_type": "code",
      "source": [
        "# 10. Check whether a year is leap year or not. Use nested if...else to solve this problem.\n",
        "# A leap year is exactly divisible by 4 except for century years (years ending with 00).\n",
        "# The century year is a leap year only if it is perfectly divisible by 400.\n",
        "\n",
        "def checkYear(year):\n",
        "    if (year % 4) == 0:\n",
        "        if (year % 100) == 0:\n",
        "            if (year % 400) == 0:\n",
        "                return True\n",
        "            else:\n",
        "                return False\n",
        "        else:\n",
        "             return True\n",
        "    else:\n",
        "        return False\n",
        " \n",
        "\n",
        "year = 2000\n",
        "if(checkYear(year)):\n",
        "    print(\"Leap Year\")\n",
        "else:\n",
        "    print(\"Not a Leap Year\")"
      ],
      "metadata": {
        "id": "7yZA9ldvQup5"
      },
      "execution_count": null,
      "outputs": []
    }
  ]
}